{
 "cells": [
  {
   "cell_type": "code",
   "execution_count": 50,
   "metadata": {},
   "outputs": [],
   "source": [
    "import pandas as pd\n",
    "import numpy as np\n",
    "import matplotlib.pyplot as plt\n",
    "import seaborn as sns"
   ]
  },
  {
   "cell_type": "code",
   "execution_count": null,
   "metadata": {},
   "outputs": [],
   "source": []
  },
  {
   "cell_type": "code",
   "execution_count": null,
   "metadata": {},
   "outputs": [],
   "source": [
    "flight = pd.read_excel('C:\\\\xampp\\\\htdocs\\\\Project\\\\Training_model\\\\Flight Data.xlsx')\n",
    "flight.head()"
   ]
  },
  {
   "cell_type": "code",
   "execution_count": null,
   "metadata": {},
   "outputs": [],
   "source": [
    "pd.set_option('future.no_silent_downcasting', True)\n",
    "flight.shape"
   ]
  },
  {
   "cell_type": "code",
   "execution_count": null,
   "metadata": {},
   "outputs": [],
   "source": [
    "flight.info()"
   ]
  },
  {
   "cell_type": "code",
   "execution_count": null,
   "metadata": {},
   "outputs": [],
   "source": [
    "flight['Duration'].value_counts()"
   ]
  },
  {
   "cell_type": "code",
   "execution_count": null,
   "metadata": {},
   "outputs": [],
   "source": [
    "flight.isnull().sum()"
   ]
  },
  {
   "cell_type": "code",
   "execution_count": null,
   "metadata": {},
   "outputs": [],
   "source": [
    "flight.dropna(inplace=True)\n",
    "flight.isnull().sum()"
   ]
  },
  {
   "cell_type": "code",
   "execution_count": null,
   "metadata": {},
   "outputs": [],
   "source": [
    "flight.head()"
   ]
  },
  {
   "cell_type": "code",
   "execution_count": null,
   "metadata": {},
   "outputs": [],
   "source": [
    "flight['Journey_Day'] = pd.to_datetime(flight.Date_of_Journey, format = '%d/%m/%Y').dt.day\n",
    "flight['Journey_Month'] = pd.to_datetime(flight.Date_of_Journey, format = '%d/%m/%Y').dt.month\n",
    "flight.head()"
   ]
  },
  {
   "cell_type": "code",
   "execution_count": null,
   "metadata": {},
   "outputs": [],
   "source": [
    "flight['Dep_hour'] = pd.to_datetime(flight['Dep_Time'], format='%H:%M').dt.hour\n",
    "flight['Dep_Minute'] = pd.to_datetime(flight['Dep_Time'], format='%H:%M').dt.minute\n",
    "flight.head()"
   ]
  },
  {
   "cell_type": "code",
   "execution_count": 60,
   "metadata": {},
   "outputs": [],
   "source": [
    "# Handle arrival time with or without dates\n",
    "def parse_arrival_time(arrival):\n",
    "    try:\n",
    "        # If the value includes a date (e.g., '01:10 22 Mar'), parse it accordingly\n",
    "        return pd.to_datetime(arrival, format='%H:%M %d %b')\n",
    "    except ValueError:\n",
    "        # If only time is present (e.g., '13:15'), parse it accordingly\n",
    "        return pd.to_datetime(arrival, format='%H:%M')\n",
    "\n",
    "# Apply the function to parse times correctly\n",
    "flight['Parsed_Arrival_Time'] = flight['Arrival_Time'].apply(parse_arrival_time)\n",
    "\n",
    "# Extract hours and minutes\n",
    "flight['Arrival_hour'] = flight['Parsed_Arrival_Time'].dt.hour\n",
    "flight['Arrival_Minute'] = flight['Parsed_Arrival_Time'].dt.minute\n",
    "\n",
    "# Drop the temporary parsed column\n",
    "flight.drop(columns=['Parsed_Arrival_Time'], inplace=True)\n"
   ]
  },
  {
   "cell_type": "code",
   "execution_count": null,
   "metadata": {},
   "outputs": [],
   "source": [
    "flight.drop(columns = ['Dep_Time', 'Date_of_Journey'],inplace=True)\n",
    "flight.drop(columns = 'Arrival_Time',inplace = True)\n",
    "flight.head()"
   ]
  },
  {
   "cell_type": "code",
   "execution_count": 62,
   "metadata": {},
   "outputs": [],
   "source": [
    "duration = list(flight.Duration)\n",
    "\n",
    "for i in range(len(duration)):\n",
    "    if len(duration[i].split()) != 2:\n",
    "        if 'h' in duration[i]:\n",
    "            duration[i] = duration[i] + '0m'\n",
    "        else:\n",
    "            duration[i] = '0h' + duration[i]\n",
    "\n",
    "duration\n",
    "duration_hour = []\n",
    "duration_minute = []\n",
    "\n",
    "for dur in duration:\n",
    "    hours = int(dur.split('h')[0])  # Extract hours\n",
    "    minutes = int(dur.split('h')[1].split('m')[0].strip())  # Extract minutes\n",
    "    duration_hour.append(hours)\n",
    "    duration_minute.append(minutes)\n"
   ]
  },
  {
   "cell_type": "code",
   "execution_count": 63,
   "metadata": {},
   "outputs": [],
   "source": [
    "flight['Duration_Hour'] = duration_hour\n",
    "flight['Duration_Minute'] = duration_minute"
   ]
  },
  {
   "cell_type": "code",
   "execution_count": 64,
   "metadata": {},
   "outputs": [],
   "source": [
    "flight.drop(columns = 'Duration',inplace=True)"
   ]
  },
  {
   "cell_type": "code",
   "execution_count": null,
   "metadata": {},
   "outputs": [],
   "source": [
    "flight.head()"
   ]
  },
  {
   "cell_type": "code",
   "execution_count": null,
   "metadata": {},
   "outputs": [],
   "source": [
    "flight['Airline'].value_counts()"
   ]
  },
  {
   "cell_type": "code",
   "execution_count": null,
   "metadata": {},
   "outputs": [],
   "source": [
    "print(flight['Airline'].unique())\n",
    "print(flight['Airline'].dtype)"
   ]
  },
  {
   "cell_type": "code",
   "execution_count": null,
   "metadata": {},
   "outputs": [],
   "source": [
    "Airline = flight['Airline']\n",
    "Airline = pd.get_dummies(Airline, drop_first=True)\n",
    "Airline.head()"
   ]
  },
  {
   "cell_type": "code",
   "execution_count": null,
   "metadata": {},
   "outputs": [],
   "source": [
    "flight['Source'].value_counts()"
   ]
  },
  {
   "cell_type": "code",
   "execution_count": null,
   "metadata": {},
   "outputs": [],
   "source": [
    "sns.catplot(y='Price', x='Source', data = flight.sort_values('Price',ascending=False), kind='boxen', height=6, aspect=3)"
   ]
  },
  {
   "cell_type": "code",
   "execution_count": null,
   "metadata": {},
   "outputs": [],
   "source": [
    "flight['Source'].value_counts()"
   ]
  },
  {
   "cell_type": "code",
   "execution_count": null,
   "metadata": {},
   "outputs": [],
   "source": [
    "Source = flight['Source']\n",
    "\n",
    "Source = pd.get_dummies(Source, drop_first=True)\n",
    "Source.head()"
   ]
  },
  {
   "cell_type": "code",
   "execution_count": null,
   "metadata": {},
   "outputs": [],
   "source": [
    "flight['Destination'].value_counts()"
   ]
  },
  {
   "cell_type": "code",
   "execution_count": null,
   "metadata": {},
   "outputs": [],
   "source": [
    "Destination = flight['Destination']\n",
    "\n",
    "Destination = pd.get_dummies(Destination, drop_first=True)\n",
    "flight.replace({'Destination': {False: 0, True: 1}}, inplace=True)\n",
    "Destination.head()"
   ]
  },
  {
   "cell_type": "code",
   "execution_count": null,
   "metadata": {},
   "outputs": [],
   "source": [
    "flight['Route']"
   ]
  },
  {
   "cell_type": "code",
   "execution_count": 76,
   "metadata": {},
   "outputs": [],
   "source": [
    "flight.drop(columns=['Route','Additional_Info'],axis=1, inplace=True)"
   ]
  },
  {
   "cell_type": "code",
   "execution_count": null,
   "metadata": {},
   "outputs": [],
   "source": [
    "flight.head()"
   ]
  },
  {
   "cell_type": "code",
   "execution_count": null,
   "metadata": {},
   "outputs": [],
   "source": [
    "flight['Total_Stops'].value_counts()"
   ]
  },
  {
   "cell_type": "code",
   "execution_count": 79,
   "metadata": {},
   "outputs": [],
   "source": [
    "flight.replace({'non-stop':0,'1 stop':1, '2 stops':2, '3 stops':3, '4 stops':4}, inplace = True)"
   ]
  },
  {
   "cell_type": "code",
   "execution_count": null,
   "metadata": {},
   "outputs": [],
   "source": [
    "flight.head()"
   ]
  },
  {
   "cell_type": "code",
   "execution_count": null,
   "metadata": {},
   "outputs": [],
   "source": [
    "flight = pd.concat( [flight, Airline, Source, Destination], axis = 1)\n",
    "flight.head()"
   ]
  },
  {
   "cell_type": "code",
   "execution_count": null,
   "metadata": {},
   "outputs": [],
   "source": [
    "pd.set_option('display.max_columns', None)\n",
    "pd.set_option('display.max_rows', None)\n",
    "flight.head()"
   ]
  },
  {
   "cell_type": "code",
   "execution_count": null,
   "metadata": {},
   "outputs": [],
   "source": [
    "flight.drop(columns=['Airline', 'Source', 'Destination'], inplace=True, errors='ignore')\n",
    "flight.replace({False: 0, True: 1}, inplace=True)\n",
    "flight.head()"
   ]
  },
  {
   "cell_type": "code",
   "execution_count": null,
   "metadata": {},
   "outputs": [],
   "source": [
    "flight.shape"
   ]
  },
  {
   "cell_type": "markdown",
   "metadata": {},
   "source": [
    "Test Data"
   ]
  },
  {
   "cell_type": "code",
   "execution_count": null,
   "metadata": {},
   "outputs": [],
   "source": [
    "flight_test = pd.read_excel('C:\\\\xampp\\\\htdocs\\\\Project\\\\Training_model\\\\Flight Data.xlsx')\n",
    "flight_test.head()"
   ]
  },
  {
   "cell_type": "code",
   "execution_count": null,
   "metadata": {},
   "outputs": [],
   "source": [
    "duration = flight_test['Duration'].astype(str).str.lower().str.replace(' ', '')\n",
    "\n",
    "# Ensure all durations have both 'h' and 'm'\n",
    "duration = duration.apply(lambda x: x + '0m' if 'h' in x and 'm' not in x else x)\n",
    "duration = duration.apply(lambda x: '0h' + x if 'h' not in x and 'm' in x else x)\n",
    "\n",
    "# Extract hours and minutes safely\n",
    "duration_hour = duration.str.extract(r'(\\d+)h')[0].fillna(0).astype(int)\n",
    "duration_minute = duration.str.extract(r'(\\d+)m')[0].fillna(0).astype(int)\n",
    "\n",
    "# Assign new columns\n",
    "flight_test['Duration_Hour'] = duration_hour\n",
    "flight_test['Duration_Minute'] = duration_minute\n",
    "\n",
    "# Drop the original Duration column\n",
    "flight_test.drop(columns=['Duration'], inplace=True)\n",
    "\n",
    "print(flight_test[['Duration_Hour', 'Duration_Minute']].head())\n"
   ]
  },
  {
   "cell_type": "code",
   "execution_count": null,
   "metadata": {},
   "outputs": [],
   "source": [
    "flight_test.head()"
   ]
  },
  {
   "cell_type": "code",
   "execution_count": 88,
   "metadata": {},
   "outputs": [],
   "source": [
    "# Handle arrival time with or without dates\n",
    "def parse_arrival_time(arrival):\n",
    "    try:\n",
    "        # If the value includes a date (e.g., '01:10 22 Mar'), parse it accordingly\n",
    "        return pd.to_datetime(arrival, format='%H:%M %d %b')\n",
    "    except ValueError:\n",
    "        # If only time is present (e.g., '13:15'), parse it accordingly\n",
    "        return pd.to_datetime(arrival, format='%H:%M')\n",
    "\n",
    "# Apply the function to parse times correctly\n",
    "flight_test['Parsed_Arrival_Time'] = flight_test['Arrival_Time'].apply(parse_arrival_time)\n",
    "\n",
    "# Extract hours and minutes\n",
    "flight_test['Arrival_hour'] = flight_test['Parsed_Arrival_Time'].dt.hour\n",
    "flight_test['Arrival_Minute'] = flight_test['Parsed_Arrival_Time'].dt.minute\n",
    "\n",
    "# Drop the temporary parsed column\n",
    "flight_test.drop(columns=['Parsed_Arrival_Time'], inplace=True)"
   ]
  },
  {
   "cell_type": "code",
   "execution_count": null,
   "metadata": {},
   "outputs": [],
   "source": [
    "print(\"_\"*50)\n",
    "print(\"Shape\")\n",
    "print(flight_test.shape)\n",
    "\n",
    "print(\"_\"*50)\n",
    "print(\"Info\")\n",
    "print(flight_test.info())\n",
    "\n",
    "print(\"_\"*50)\n",
    "print(\"Check null value\")\n",
    "print(flight_test.isnull().sum())\n",
    "\n",
    "print(\"_\"*50)\n",
    "print(\"Drop null values rows\")\n",
    "flight_test.dropna(inplace=True)\n",
    "\n",
    "print(\"_\"*50)\n",
    "print(\"Check null values\")\n",
    "print(flight_test.isnull().sum())\n",
    "\n",
    "print(\"_\"*50)\n",
    "print(\"Fetch journey day and month from Date_of_Journey\")\n",
    "flight_test['Journey_Day'] = pd.to_datetime(flight_test['Date_of_Journey'], format='%d/%m/%Y').dt.day\n",
    "flight_test['Journey_Month'] = pd.to_datetime(flight_test['Date_of_Journey'], format='%d/%m/%Y').dt.month\n",
    "flight_test.drop(columns=['Date_of_Journey'], inplace=True)\n",
    "print(flight_test.head())\n",
    "\n",
    "print(\"_\"*50)\n",
    "print(\"Convert Departure time\")\n",
    "flight_test['Dep_hour'] = pd.to_datetime(flight_test['Dep_Time'], format='%H:%M').dt.hour\n",
    "flight_test['Dep_minute'] = pd.to_datetime(flight_test['Dep_Time'], format='%H:%M').dt.minute\n",
    "flight_test.drop(columns=['Dep_Time'], inplace=True)\n",
    "print(flight_test.head())\n",
    "\n",
    "print(\"_\"*50)\n",
    "print(\"Normalize total stops\")\n",
    "pd.set_option('future.no_silent_downcasting', True)\n",
    "flight_test.replace({'non-stop': 0, '1 stop': 1, '2 stops': 2, '3 stops': 3, '4 stops': 4}, inplace=True)\n",
    "\n",
    "print(\"_\"*50)\n",
    "print(\"OneHotEncoder on Airline column\")\n",
    "Airline = pd.get_dummies(flight_test['Airline'], drop_first=True)\n",
    "print(Airline.head())\n",
    "\n",
    "print(\"_\"*50)\n",
    "print(\"OneHotEncoder on Source column\")\n",
    "Source = pd.get_dummies(flight_test['Source'], drop_first=True)\n",
    "print(Source.head())\n",
    "\n",
    "print(\"_\"*50)\n",
    "print(\"OneHotEncoder on Destination column\")\n",
    "Destination = pd.get_dummies(flight_test['Destination'], drop_first=True)\n",
    "print(Destination.head())\n",
    "\n",
    "print(\"_\"*50)\n",
    "print(\"Drop Route and Additional_Info\")\n",
    "flight_test.drop(columns=['Route', 'Additional_Info'], axis=1, inplace=True)\n",
    "\n",
    "print(\"_\"*50)\n",
    "print(\"Concatenate Airline, Source, Destination\")\n",
    "flight_test = pd.concat([flight_test, Airline, Source, Destination], axis=1)\n",
    "flight_test.drop(columns=['Airline', 'Source', 'Destination'], inplace=True)\n",
    "\n",
    "print(\"_\"*50)\n",
    "print(\"Show head\")\n",
    "flight.replace({False: 0, True: 1}, inplace=True)\n",
    "print(flight_test.head())\n",
    "\n",
    "print(\"_\"*50)\n",
    "print(\"Shape\")\n",
    "print(flight_test.shape)"
   ]
  },
  {
   "cell_type": "code",
   "execution_count": null,
   "metadata": {},
   "outputs": [],
   "source": [
    "flight_test.replace({False: 0, True: 1}, inplace=True)\n",
    "flight_test.drop(columns=['Price'], inplace=True)\n",
    "flight_test.drop(columns=['Arrival_Time'], inplace=True)\n",
    "flight_test.head()"
   ]
  },
  {
   "cell_type": "markdown",
   "metadata": {},
   "source": [
    "Feature Selection"
   ]
  },
  {
   "cell_type": "code",
   "execution_count": null,
   "metadata": {},
   "outputs": [],
   "source": [
    "flight.shape , flight_test.shape"
   ]
  },
  {
   "cell_type": "code",
   "execution_count": null,
   "metadata": {},
   "outputs": [],
   "source": [
    "x = flight.drop(columns= 'Price', axis=1)\n",
    "y = flight['Price']\n",
    "x.head()"
   ]
  },
  {
   "cell_type": "code",
   "execution_count": null,
   "metadata": {},
   "outputs": [],
   "source": [
    "y.head()"
   ]
  },
  {
   "cell_type": "code",
   "execution_count": null,
   "metadata": {},
   "outputs": [],
   "source": [
    "plt.figure(figsize=(20,20))\n",
    "sns.heatmap(flight.corr(), annot= True, cmap = 'RdYlGn')\n",
    "plt.show()"
   ]
  },
  {
   "cell_type": "markdown",
   "metadata": {},
   "source": [
    "Fit model using Random Forest"
   ]
  },
  {
   "cell_type": "code",
   "execution_count": 96,
   "metadata": {},
   "outputs": [],
   "source": [
    "from sklearn.model_selection import train_test_split\n",
    "x_train, x_test, y_train, y_test = train_test_split(x,y,test_size=0.2, random_state=51)"
   ]
  },
  {
   "cell_type": "code",
   "execution_count": null,
   "metadata": {},
   "outputs": [],
   "source": [
    "from sklearn.ensemble import RandomForestRegressor\n",
    "rfr = RandomForestRegressor()\n",
    "rfr.fit(x_train , y_train)"
   ]
  },
  {
   "cell_type": "code",
   "execution_count": 99,
   "metadata": {},
   "outputs": [],
   "source": [
    "pred = rfr.predict(x_test)"
   ]
  },
  {
   "cell_type": "code",
   "execution_count": null,
   "metadata": {},
   "outputs": [],
   "source": [
    "rfr.score(x_train , y_train)"
   ]
  },
  {
   "cell_type": "code",
   "execution_count": null,
   "metadata": {},
   "outputs": [],
   "source": [
    "rfr.score(x_test,y_test)"
   ]
  },
  {
   "cell_type": "code",
   "execution_count": null,
   "metadata": {},
   "outputs": [],
   "source": [
    "sns.displot(y_test - pred)"
   ]
  },
  {
   "cell_type": "code",
   "execution_count": null,
   "metadata": {},
   "outputs": [],
   "source": [
    "plt.scatter(y_test, pred, alpha=0.8)\n",
    "plt.xlabel('y_test')  \n",
    "plt.ylabel('pred')    \n",
    "plt.title('Actual vs Predicted')\n",
    "plt.show()"
   ]
  },
  {
   "cell_type": "code",
   "execution_count": null,
   "metadata": {},
   "outputs": [],
   "source": [
    "from sklearn import metrics\n",
    "print('MAE:', metrics.mean_absolute_error(y_test, pred))\n",
    "print('MSE:', metrics.mean_squared_error(y_test, pred))\n",
    "print('RMSE:', np.sqrt(metrics.mean_squared_error(y_test , pred)))"
   ]
  },
  {
   "cell_type": "code",
   "execution_count": null,
   "metadata": {},
   "outputs": [],
   "source": [
    "metrics.r2_score(y_test,pred)"
   ]
  },
  {
   "cell_type": "markdown",
   "metadata": {},
   "source": [
    "Hyperprameter Tuning"
   ]
  },
  {
   "cell_type": "code",
   "execution_count": null,
   "metadata": {},
   "outputs": [],
   "source": [
    "from sklearn.model_selection import RandomizedSearchCV\n",
    "\n",
    "n_estimators = [int(x) for x in np.linspace(100,2000,10)]\n",
    "max_depth = [int(x) for x in np.linspace(100,2000,10)]\n",
    "min_samples_split = [2,4,6,8,10,12,14]\n",
    "min_samples_leaf = [1,3,5,7,8,10]\n",
    "max_features = ['sqrt','log2','auto', None]\n",
    "\n",
    "random_search = {\n",
    "    'n_estimators' : n_estimators,\n",
    "    'max_depth' : max_depth,\n",
    "    'min_samples_split' : min_samples_split,\n",
    "    'min_samples_leaf' : min_samples_leaf,\n",
    "    'max_features' : max_features\n",
    "}\n",
    "\n",
    "random_search"
   ]
  },
  {
   "cell_type": "code",
   "execution_count": 112,
   "metadata": {},
   "outputs": [],
   "source": [
    "rfr_random = RandomizedSearchCV(estimator=rfr , param_distributions=random_search , n_iter=10 , cv = 5 , verbose=2, random_state=51, n_jobs=1)"
   ]
  },
  {
   "cell_type": "code",
   "execution_count": null,
   "metadata": {},
   "outputs": [],
   "source": [
    "rfr_random.fit(x_train , y_train)"
   ]
  },
  {
   "cell_type": "code",
   "execution_count": null,
   "metadata": {},
   "outputs": [],
   "source": [
    "rfr_random.best_params_"
   ]
  },
  {
   "cell_type": "code",
   "execution_count": null,
   "metadata": {},
   "outputs": [],
   "source": [
    "prediction = rfr_random.predict(x_test)"
   ]
  }
 ],
 "metadata": {
  "kernelspec": {
   "display_name": "Python 3",
   "language": "python",
   "name": "python3"
  },
  "language_info": {
   "codemirror_mode": {
    "name": "ipython",
    "version": 3
   },
   "file_extension": ".py",
   "mimetype": "text/x-python",
   "name": "python",
   "nbconvert_exporter": "python",
   "pygments_lexer": "ipython3",
   "version": "3.11.9"
  }
 },
 "nbformat": 4,
 "nbformat_minor": 2
}
